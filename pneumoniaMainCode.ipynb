{
 "cells": [
  {
   "cell_type": "markdown",
   "id": "700ad51d",
   "metadata": {},
   "source": [
    "# Imports"
   ]
  },
  {
   "cell_type": "code",
   "execution_count": 1,
   "id": "8f9da7c9",
   "metadata": {},
   "outputs": [
    {
     "name": "stderr",
     "output_type": "stream",
     "text": [
      "2023-05-13 10:56:43.642531: I tensorflow/core/platform/cpu_feature_guard.cc:193] This TensorFlow binary is optimized with oneAPI Deep Neural Network Library (oneDNN) to use the following CPU instructions in performance-critical operations:  SSE4.1 SSE4.2 AVX AVX2 FMA\n",
      "To enable them in other operations, rebuild TensorFlow with the appropriate compiler flags.\n"
     ]
    }
   ],
   "source": [
    "import cv2\n",
    "import os\n",
    "from PIL import Image\n",
    "import numpy as np\n",
    "from sklearn.model_selection import train_test_split\n",
    "import tensorflow as tf\n",
    "from tensorflow import keras\n",
    "from keras.utils import normalize\n",
    "from keras.models import Sequential, load_model\n",
    "from keras.layers import Conv2D, MaxPooling2D, Activation, Dropout, Flatten, Dense\n",
    "from keras.utils import to_categorical"
   ]
  },
  {
   "cell_type": "markdown",
   "id": "87d0a1fa",
   "metadata": {},
   "source": [
    "# Data Extraction"
   ]
  },
  {
   "cell_type": "code",
   "execution_count": 33,
   "id": "263d37c3",
   "metadata": {},
   "outputs": [],
   "source": [
    "image_dir = \"train/\"\n",
    "\n",
    "INPUT_SIZE = 64\n",
    "\n",
    "yes_pneumonia_images = os.listdir(image_dir+'PNEUMONIA')\n",
    "no_pneumonia_images = os.listdir(image_dir+'NORMAL')\n",
    "dataset = []\n",
    "label = []\n",
    "\n",
    "\n",
    "for i , image_name in enumerate(yes_pneumonia_images):\n",
    "    if(image_name.split('.')[1] == 'jpeg'):\n",
    "        image = cv2.imread(image_dir + 'PNEUMONIA/' + image_name)\n",
    "        #image = cv2.cvtColor(image, cv2.COLOR_BGR2RGB)\n",
    "        image = Image.fromarray(image,'RGB')\n",
    "        image = image.resize((INPUT_SIZE,INPUT_SIZE))\n",
    "        dataset.append(np.array(image))\n",
    "        label.append(0)\n",
    "\n",
    "for i , image_name in enumerate(no_pneumonia_images):\n",
    "    if(image_name.split('.')[1] == 'jpeg'):\n",
    "        image = cv2.imread(image_dir + 'NORMAL/' + image_name)\n",
    "        #image = cv2.cvtColor(image, cv2.COLOR_BGR2RGB)\n",
    "        image = Image.fromarray(image,'RGB')\n",
    "        image = image.resize((INPUT_SIZE,INPUT_SIZE))\n",
    "        dataset.append(np.array(image))\n",
    "        label.append(0)"
   ]
  },
  {
   "cell_type": "markdown",
   "id": "360fe8e6",
   "metadata": {},
   "source": [
    "# Convert to numpy array and reshape"
   ]
  },
  {
   "cell_type": "code",
   "execution_count": 35,
   "id": "edd3dcf5",
   "metadata": {},
   "outputs": [],
   "source": [
    "dataset = np.array(dataset)\n",
    "label = np.array(label)\n",
    "\n",
    "x_train, x_test, y_train, y_test = train_test_split(dataset, label, test_size=.2, random_state=0)"
   ]
  },
  {
   "cell_type": "markdown",
   "id": "872f9395",
   "metadata": {},
   "source": [
    "# Normalize data and make models"
   ]
  },
  {
   "cell_type": "code",
   "execution_count": 36,
   "id": "02683b1d",
   "metadata": {},
   "outputs": [
    {
     "name": "stderr",
     "output_type": "stream",
     "text": [
      "2023-05-13 11:36:34.148974: I tensorflow/core/platform/cpu_feature_guard.cc:193] This TensorFlow binary is optimized with oneAPI Deep Neural Network Library (oneDNN) to use the following CPU instructions in performance-critical operations:  SSE4.1 SSE4.2 AVX AVX2 FMA\n",
      "To enable them in other operations, rebuild TensorFlow with the appropriate compiler flags.\n"
     ]
    },
    {
     "name": "stdout",
     "output_type": "stream",
     "text": [
      "Epoch 1/10\n",
      "261/261 [==============================] - 11s 35ms/step - loss: 0.0079 - accuracy: 0.9988 - val_loss: 9.6702e-27 - val_accuracy: 1.0000\n",
      "Epoch 2/10\n",
      "261/261 [==============================] - 9s 36ms/step - loss: 1.6578e-06 - accuracy: 1.0000 - val_loss: 5.3410e-29 - val_accuracy: 1.0000\n",
      "Epoch 3/10\n",
      "261/261 [==============================] - 10s 37ms/step - loss: 6.2522e-11 - accuracy: 1.0000 - val_loss: 5.3307e-29 - val_accuracy: 1.0000\n",
      "Epoch 4/10\n",
      "261/261 [==============================] - 9s 36ms/step - loss: 1.2012e-08 - accuracy: 1.0000 - val_loss: 3.5044e-29 - val_accuracy: 1.0000\n",
      "Epoch 5/10\n",
      "261/261 [==============================] - 9s 36ms/step - loss: 9.1630e-09 - accuracy: 1.0000 - val_loss: 2.4013e-29 - val_accuracy: 1.0000\n",
      "Epoch 6/10\n",
      "261/261 [==============================] - 10s 38ms/step - loss: 1.6632e-07 - accuracy: 1.0000 - val_loss: 4.1056e-32 - val_accuracy: 1.0000\n",
      "Epoch 7/10\n",
      "261/261 [==============================] - 10s 38ms/step - loss: 6.1622e-09 - accuracy: 1.0000 - val_loss: 1.9318e-32 - val_accuracy: 1.0000\n",
      "Epoch 8/10\n",
      "261/261 [==============================] - 10s 38ms/step - loss: 1.6400e-10 - accuracy: 1.0000 - val_loss: 1.8840e-32 - val_accuracy: 1.0000\n",
      "Epoch 9/10\n",
      "261/261 [==============================] - 10s 37ms/step - loss: 4.0975e-08 - accuracy: 1.0000 - val_loss: 8.0731e-35 - val_accuracy: 1.0000\n",
      "Epoch 10/10\n",
      "261/261 [==============================] - 10s 38ms/step - loss: 5.7785e-09 - accuracy: 1.0000 - val_loss: 5.6799e-35 - val_accuracy: 1.0000\n"
     ]
    }
   ],
   "source": [
    "x_train = normalize(x_train, axis=1)\n",
    "x_test = normalize(x_test, axis=1)\n",
    "\n",
    "\n",
    "\n",
    "\n",
    "model = Sequential()\n",
    "\n",
    "model.add(Conv2D(32, (3,3), input_shape=(INPUT_SIZE,INPUT_SIZE,3)))\n",
    "model.add(Activation('relu'))\n",
    "model.add(MaxPooling2D(pool_size=(2,2)))\n",
    "\n",
    "model.add(Conv2D(32, (3,3), kernel_initializer='he_uniform'))\n",
    "model.add(Activation('relu'))\n",
    "model.add(MaxPooling2D(pool_size=(2,2)))\n",
    "\n",
    "model.add(Conv2D(64, (3,3), kernel_initializer='he_uniform'))\n",
    "model.add(Activation('relu'))\n",
    "model.add(MaxPooling2D(pool_size=(2,2)))\n",
    "\n",
    "model.add(Flatten())\n",
    "model.add(Dense(64))\n",
    "model.add(Activation('relu'))\n",
    "model.add(Dropout(0.5))\n",
    "model.add(Dense(1))\n",
    "model.add(Activation('sigmoid'))\n",
    "\n",
    "\n",
    "\n",
    "model.compile(loss='binary_crossentropy', optimizer='adam', metrics=['accuracy'])\n",
    "\n",
    "model.fit(x_train, y_train, batch_size=16, verbose=1, epochs=10, \n",
    "          validation_data=(x_test,y_test), shuffle=False)\n",
    "\n",
    "model.save('Pneumonia10Epochs.h5')"
   ]
  },
  {
   "cell_type": "markdown",
   "id": "87f0108c",
   "metadata": {},
   "source": [
    "# Testing"
   ]
  },
  {
   "cell_type": "code",
   "execution_count": 46,
   "id": "fb8c0898",
   "metadata": {},
   "outputs": [
    {
     "name": "stdout",
     "output_type": "stream",
     "text": [
      "1/1 [==============================] - 0s 69ms/step\n",
      "[[0.]]\n"
     ]
    }
   ],
   "source": [
    "model = load_model('Pneumonia10Epochs.h5')\n",
    "\n",
    "#image = cv2.imread('/Users/siddhantborkar/pneumonia/test/NORMAL/IM-0001-0001.jpeg')\n",
    "image = cv2.imread('/Users/siddhantborkar/pneumonia/test/PNEUMONIA/person83_bacteria_414.jpeg')\n",
    "img = Image.fromarray(image)\n",
    "img = img.resize((64,64))\n",
    "img = np.array(img)\n",
    "\n",
    "\n",
    "input_img = np.expand_dims(img, axis=0)\n",
    "result = model.predict(input_img)\n",
    "print(result)"
   ]
  },
  {
   "cell_type": "code",
   "execution_count": null,
   "id": "0ddf76ad",
   "metadata": {},
   "outputs": [],
   "source": []
  }
 ],
 "metadata": {
  "kernelspec": {
   "display_name": "Python 3 (ipykernel)",
   "language": "python",
   "name": "python3"
  },
  "language_info": {
   "codemirror_mode": {
    "name": "ipython",
    "version": 3
   },
   "file_extension": ".py",
   "mimetype": "text/x-python",
   "name": "python",
   "nbconvert_exporter": "python",
   "pygments_lexer": "ipython3",
   "version": "3.9.16"
  }
 },
 "nbformat": 4,
 "nbformat_minor": 5
}
